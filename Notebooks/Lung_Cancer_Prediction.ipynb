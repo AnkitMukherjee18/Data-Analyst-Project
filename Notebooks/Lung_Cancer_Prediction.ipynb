{
  "nbformat": 4,
  "nbformat_minor": 0,
  "metadata": {
    "colab": {
      "provenance": []
    },
    "kernelspec": {
      "name": "python3",
      "display_name": "Python 3"
    },
    "language_info": {
      "name": "python"
    }
  },
  "cells": [
    {
      "cell_type": "code",
      "execution_count": 1,
      "metadata": {
        "id": "dhc-m-L4a2iU",
        "colab": {
          "base_uri": "https://localhost:8080/",
          "height": 267
        },
        "outputId": "940e71bc-75ff-4548-bf85-b0dd66489230"
      },
      "outputs": [
        {
          "output_type": "execute_result",
          "data": {
            "text/plain": [
              "  GENDER  AGE  SMOKING  YELLOW_FINGERS  ANXIETY  PEER_PRESSURE  \\\n",
              "0      M   69        1               2        2              1   \n",
              "1      M   74        2               1        1              1   \n",
              "2      F   59        1               1        1              2   \n",
              "3      M   63        2               2        2              1   \n",
              "4      F   63        1               2        1              1   \n",
              "\n",
              "   CHRONIC DISEASE  FATIGUE   ALLERGY   WHEEZING  ALCOHOL CONSUMING  COUGHING  \\\n",
              "0                1         2         1         2                  2         2   \n",
              "1                2         2         2         1                  1         1   \n",
              "2                1         2         1         2                  1         2   \n",
              "3                1         1         1         1                  2         1   \n",
              "4                1         1         1         2                  1         2   \n",
              "\n",
              "   SHORTNESS OF BREATH  SWALLOWING DIFFICULTY  CHEST PAIN LUNG_CANCER  \n",
              "0                    2                      2           2         YES  \n",
              "1                    2                      2           2         YES  \n",
              "2                    2                      1           2          NO  \n",
              "3                    1                      2           2          NO  \n",
              "4                    2                      1           1          NO  "
            ],
            "text/html": [
              "\n",
              "\n",
              "  <div id=\"df-baa0290f-21fa-4d3e-8d94-9ef47c4d9b06\">\n",
              "    <div class=\"colab-df-container\">\n",
              "      <div>\n",
              "<style scoped>\n",
              "    .dataframe tbody tr th:only-of-type {\n",
              "        vertical-align: middle;\n",
              "    }\n",
              "\n",
              "    .dataframe tbody tr th {\n",
              "        vertical-align: top;\n",
              "    }\n",
              "\n",
              "    .dataframe thead th {\n",
              "        text-align: right;\n",
              "    }\n",
              "</style>\n",
              "<table border=\"1\" class=\"dataframe\">\n",
              "  <thead>\n",
              "    <tr style=\"text-align: right;\">\n",
              "      <th></th>\n",
              "      <th>GENDER</th>\n",
              "      <th>AGE</th>\n",
              "      <th>SMOKING</th>\n",
              "      <th>YELLOW_FINGERS</th>\n",
              "      <th>ANXIETY</th>\n",
              "      <th>PEER_PRESSURE</th>\n",
              "      <th>CHRONIC DISEASE</th>\n",
              "      <th>FATIGUE</th>\n",
              "      <th>ALLERGY</th>\n",
              "      <th>WHEEZING</th>\n",
              "      <th>ALCOHOL CONSUMING</th>\n",
              "      <th>COUGHING</th>\n",
              "      <th>SHORTNESS OF BREATH</th>\n",
              "      <th>SWALLOWING DIFFICULTY</th>\n",
              "      <th>CHEST PAIN</th>\n",
              "      <th>LUNG_CANCER</th>\n",
              "    </tr>\n",
              "  </thead>\n",
              "  <tbody>\n",
              "    <tr>\n",
              "      <th>0</th>\n",
              "      <td>M</td>\n",
              "      <td>69</td>\n",
              "      <td>1</td>\n",
              "      <td>2</td>\n",
              "      <td>2</td>\n",
              "      <td>1</td>\n",
              "      <td>1</td>\n",
              "      <td>2</td>\n",
              "      <td>1</td>\n",
              "      <td>2</td>\n",
              "      <td>2</td>\n",
              "      <td>2</td>\n",
              "      <td>2</td>\n",
              "      <td>2</td>\n",
              "      <td>2</td>\n",
              "      <td>YES</td>\n",
              "    </tr>\n",
              "    <tr>\n",
              "      <th>1</th>\n",
              "      <td>M</td>\n",
              "      <td>74</td>\n",
              "      <td>2</td>\n",
              "      <td>1</td>\n",
              "      <td>1</td>\n",
              "      <td>1</td>\n",
              "      <td>2</td>\n",
              "      <td>2</td>\n",
              "      <td>2</td>\n",
              "      <td>1</td>\n",
              "      <td>1</td>\n",
              "      <td>1</td>\n",
              "      <td>2</td>\n",
              "      <td>2</td>\n",
              "      <td>2</td>\n",
              "      <td>YES</td>\n",
              "    </tr>\n",
              "    <tr>\n",
              "      <th>2</th>\n",
              "      <td>F</td>\n",
              "      <td>59</td>\n",
              "      <td>1</td>\n",
              "      <td>1</td>\n",
              "      <td>1</td>\n",
              "      <td>2</td>\n",
              "      <td>1</td>\n",
              "      <td>2</td>\n",
              "      <td>1</td>\n",
              "      <td>2</td>\n",
              "      <td>1</td>\n",
              "      <td>2</td>\n",
              "      <td>2</td>\n",
              "      <td>1</td>\n",
              "      <td>2</td>\n",
              "      <td>NO</td>\n",
              "    </tr>\n",
              "    <tr>\n",
              "      <th>3</th>\n",
              "      <td>M</td>\n",
              "      <td>63</td>\n",
              "      <td>2</td>\n",
              "      <td>2</td>\n",
              "      <td>2</td>\n",
              "      <td>1</td>\n",
              "      <td>1</td>\n",
              "      <td>1</td>\n",
              "      <td>1</td>\n",
              "      <td>1</td>\n",
              "      <td>2</td>\n",
              "      <td>1</td>\n",
              "      <td>1</td>\n",
              "      <td>2</td>\n",
              "      <td>2</td>\n",
              "      <td>NO</td>\n",
              "    </tr>\n",
              "    <tr>\n",
              "      <th>4</th>\n",
              "      <td>F</td>\n",
              "      <td>63</td>\n",
              "      <td>1</td>\n",
              "      <td>2</td>\n",
              "      <td>1</td>\n",
              "      <td>1</td>\n",
              "      <td>1</td>\n",
              "      <td>1</td>\n",
              "      <td>1</td>\n",
              "      <td>2</td>\n",
              "      <td>1</td>\n",
              "      <td>2</td>\n",
              "      <td>2</td>\n",
              "      <td>1</td>\n",
              "      <td>1</td>\n",
              "      <td>NO</td>\n",
              "    </tr>\n",
              "  </tbody>\n",
              "</table>\n",
              "</div>\n",
              "      <button class=\"colab-df-convert\" onclick=\"convertToInteractive('df-baa0290f-21fa-4d3e-8d94-9ef47c4d9b06')\"\n",
              "              title=\"Convert this dataframe to an interactive table.\"\n",
              "              style=\"display:none;\">\n",
              "\n",
              "  <svg xmlns=\"http://www.w3.org/2000/svg\" height=\"24px\"viewBox=\"0 0 24 24\"\n",
              "       width=\"24px\">\n",
              "    <path d=\"M0 0h24v24H0V0z\" fill=\"none\"/>\n",
              "    <path d=\"M18.56 5.44l.94 2.06.94-2.06 2.06-.94-2.06-.94-.94-2.06-.94 2.06-2.06.94zm-11 1L8.5 8.5l.94-2.06 2.06-.94-2.06-.94L8.5 2.5l-.94 2.06-2.06.94zm10 10l.94 2.06.94-2.06 2.06-.94-2.06-.94-.94-2.06-.94 2.06-2.06.94z\"/><path d=\"M17.41 7.96l-1.37-1.37c-.4-.4-.92-.59-1.43-.59-.52 0-1.04.2-1.43.59L10.3 9.45l-7.72 7.72c-.78.78-.78 2.05 0 2.83L4 21.41c.39.39.9.59 1.41.59.51 0 1.02-.2 1.41-.59l7.78-7.78 2.81-2.81c.8-.78.8-2.07 0-2.86zM5.41 20L4 18.59l7.72-7.72 1.47 1.35L5.41 20z\"/>\n",
              "  </svg>\n",
              "      </button>\n",
              "\n",
              "\n",
              "\n",
              "    <div id=\"df-80f9738a-05a8-43a5-ae8c-a41342118e4a\">\n",
              "      <button class=\"colab-df-quickchart\" onclick=\"quickchart('df-80f9738a-05a8-43a5-ae8c-a41342118e4a')\"\n",
              "              title=\"Suggest charts.\"\n",
              "              style=\"display:none;\">\n",
              "\n",
              "<svg xmlns=\"http://www.w3.org/2000/svg\" height=\"24px\"viewBox=\"0 0 24 24\"\n",
              "     width=\"24px\">\n",
              "    <g>\n",
              "        <path d=\"M19 3H5c-1.1 0-2 .9-2 2v14c0 1.1.9 2 2 2h14c1.1 0 2-.9 2-2V5c0-1.1-.9-2-2-2zM9 17H7v-7h2v7zm4 0h-2V7h2v10zm4 0h-2v-4h2v4z\"/>\n",
              "    </g>\n",
              "</svg>\n",
              "      </button>\n",
              "    </div>\n",
              "\n",
              "<style>\n",
              "  .colab-df-quickchart {\n",
              "    background-color: #E8F0FE;\n",
              "    border: none;\n",
              "    border-radius: 50%;\n",
              "    cursor: pointer;\n",
              "    display: none;\n",
              "    fill: #1967D2;\n",
              "    height: 32px;\n",
              "    padding: 0 0 0 0;\n",
              "    width: 32px;\n",
              "  }\n",
              "\n",
              "  .colab-df-quickchart:hover {\n",
              "    background-color: #E2EBFA;\n",
              "    box-shadow: 0px 1px 2px rgba(60, 64, 67, 0.3), 0px 1px 3px 1px rgba(60, 64, 67, 0.15);\n",
              "    fill: #174EA6;\n",
              "  }\n",
              "\n",
              "  [theme=dark] .colab-df-quickchart {\n",
              "    background-color: #3B4455;\n",
              "    fill: #D2E3FC;\n",
              "  }\n",
              "\n",
              "  [theme=dark] .colab-df-quickchart:hover {\n",
              "    background-color: #434B5C;\n",
              "    box-shadow: 0px 1px 3px 1px rgba(0, 0, 0, 0.15);\n",
              "    filter: drop-shadow(0px 1px 2px rgba(0, 0, 0, 0.3));\n",
              "    fill: #FFFFFF;\n",
              "  }\n",
              "</style>\n",
              "\n",
              "    <script>\n",
              "      async function quickchart(key) {\n",
              "        const containerElement = document.querySelector('#' + key);\n",
              "        const charts = await google.colab.kernel.invokeFunction(\n",
              "            'suggestCharts', [key], {});\n",
              "      }\n",
              "    </script>\n",
              "\n",
              "      <script>\n",
              "\n",
              "function displayQuickchartButton(domScope) {\n",
              "  let quickchartButtonEl =\n",
              "    domScope.querySelector('#df-80f9738a-05a8-43a5-ae8c-a41342118e4a button.colab-df-quickchart');\n",
              "  quickchartButtonEl.style.display =\n",
              "    google.colab.kernel.accessAllowed ? 'block' : 'none';\n",
              "}\n",
              "\n",
              "        displayQuickchartButton(document);\n",
              "      </script>\n",
              "      <style>\n",
              "    .colab-df-container {\n",
              "      display:flex;\n",
              "      flex-wrap:wrap;\n",
              "      gap: 12px;\n",
              "    }\n",
              "\n",
              "    .colab-df-convert {\n",
              "      background-color: #E8F0FE;\n",
              "      border: none;\n",
              "      border-radius: 50%;\n",
              "      cursor: pointer;\n",
              "      display: none;\n",
              "      fill: #1967D2;\n",
              "      height: 32px;\n",
              "      padding: 0 0 0 0;\n",
              "      width: 32px;\n",
              "    }\n",
              "\n",
              "    .colab-df-convert:hover {\n",
              "      background-color: #E2EBFA;\n",
              "      box-shadow: 0px 1px 2px rgba(60, 64, 67, 0.3), 0px 1px 3px 1px rgba(60, 64, 67, 0.15);\n",
              "      fill: #174EA6;\n",
              "    }\n",
              "\n",
              "    [theme=dark] .colab-df-convert {\n",
              "      background-color: #3B4455;\n",
              "      fill: #D2E3FC;\n",
              "    }\n",
              "\n",
              "    [theme=dark] .colab-df-convert:hover {\n",
              "      background-color: #434B5C;\n",
              "      box-shadow: 0px 1px 3px 1px rgba(0, 0, 0, 0.15);\n",
              "      filter: drop-shadow(0px 1px 2px rgba(0, 0, 0, 0.3));\n",
              "      fill: #FFFFFF;\n",
              "    }\n",
              "  </style>\n",
              "\n",
              "      <script>\n",
              "        const buttonEl =\n",
              "          document.querySelector('#df-baa0290f-21fa-4d3e-8d94-9ef47c4d9b06 button.colab-df-convert');\n",
              "        buttonEl.style.display =\n",
              "          google.colab.kernel.accessAllowed ? 'block' : 'none';\n",
              "\n",
              "        async function convertToInteractive(key) {\n",
              "          const element = document.querySelector('#df-baa0290f-21fa-4d3e-8d94-9ef47c4d9b06');\n",
              "          const dataTable =\n",
              "            await google.colab.kernel.invokeFunction('convertToInteractive',\n",
              "                                                     [key], {});\n",
              "          if (!dataTable) return;\n",
              "\n",
              "          const docLinkHtml = 'Like what you see? Visit the ' +\n",
              "            '<a target=\"_blank\" href=https://colab.research.google.com/notebooks/data_table.ipynb>data table notebook</a>'\n",
              "            + ' to learn more about interactive tables.';\n",
              "          element.innerHTML = '';\n",
              "          dataTable['output_type'] = 'display_data';\n",
              "          await google.colab.output.renderOutput(dataTable, element);\n",
              "          const docLink = document.createElement('div');\n",
              "          docLink.innerHTML = docLinkHtml;\n",
              "          element.appendChild(docLink);\n",
              "        }\n",
              "      </script>\n",
              "    </div>\n",
              "  </div>\n"
            ]
          },
          "metadata": {},
          "execution_count": 1
        }
      ],
      "source": [
        "# Import our dependencies\n",
        "from sklearn.model_selection import train_test_split\n",
        "from sklearn.preprocessing import StandardScaler\n",
        "import pandas as pd\n",
        "import tensorflow as tf\n",
        "\n",
        "#  Import and read the survey lung cancer.csv.\n",
        "import pandas as pd\n",
        "lung_cancer_df = pd.read_csv(\"survey lung cancer.csv\")\n",
        "lung_cancer_df.head()"
      ]
    },
    {
      "cell_type": "code",
      "source": [
        "# Drop the non-beneficial ID columns, 'EIN' and 'NAME'.\n",
        "lung_cancer_df.drop(columns=['GENDER', 'AGE'], inplace=True)"
      ],
      "metadata": {
        "id": "xGBgREjhPkRh"
      },
      "execution_count": 2,
      "outputs": []
    },
    {
      "cell_type": "code",
      "source": [
        "# Determine the number of unique values in each column.\n",
        "print(lung_cancer_df.nunique())"
      ],
      "metadata": {
        "id": "Bt72OCQBPk24",
        "colab": {
          "base_uri": "https://localhost:8080/"
        },
        "outputId": "79e02dac-ffe0-4043-d70a-b46599115b23"
      },
      "execution_count": 3,
      "outputs": [
        {
          "output_type": "stream",
          "name": "stdout",
          "text": [
            "SMOKING                  2\n",
            "YELLOW_FINGERS           2\n",
            "ANXIETY                  2\n",
            "PEER_PRESSURE            2\n",
            "CHRONIC DISEASE          2\n",
            "FATIGUE                  2\n",
            "ALLERGY                  2\n",
            "WHEEZING                 2\n",
            "ALCOHOL CONSUMING        2\n",
            "COUGHING                 2\n",
            "SHORTNESS OF BREATH      2\n",
            "SWALLOWING DIFFICULTY    2\n",
            "CHEST PAIN               2\n",
            "LUNG_CANCER              2\n",
            "dtype: int64\n"
          ]
        }
      ]
    },
    {
      "cell_type": "code",
      "source": [
        "# Look at APPLICATION_TYPE value counts for binning\n",
        "print(lung_cancer_df['CHEST PAIN'].value_counts())"
      ],
      "metadata": {
        "id": "yRsJGFAHPlS1",
        "colab": {
          "base_uri": "https://localhost:8080/"
        },
        "outputId": "6de45aee-d77a-4c30-f7e4-cb623660dc45"
      },
      "execution_count": 4,
      "outputs": [
        {
          "output_type": "stream",
          "name": "stdout",
          "text": [
            "2    172\n",
            "1    137\n",
            "Name: CHEST PAIN, dtype: int64\n"
          ]
        }
      ]
    },
    {
      "cell_type": "code",
      "source": [
        "# Choose a cutoff value and create a list of application types to be replaced\n",
        "# use the variable name `application_types_to_replace`\n",
        "cutoff = 500\n",
        "application_counts = lung_cancer_df['CHEST PAIN'].value_counts()\n",
        "application_types_to_replace = list(application_counts[application_counts < cutoff].index)\n",
        "\n",
        "# Replace in dataframe\n",
        "for app in application_types_to_replace:\n",
        "    lung_cancer_df['CHEST PAIN'] = lung_cancer_df['CHEST PAIN'].replace(app,\"Other\")\n",
        "\n",
        "# Check to make sure binning was successful\n",
        "lung_cancer_df['CHEST PAIN'].value_counts()"
      ],
      "metadata": {
        "id": "jcKhxQy0PnDm",
        "colab": {
          "base_uri": "https://localhost:8080/"
        },
        "outputId": "4e5ded50-64f7-48be-b7a4-ce7e6cd52e03"
      },
      "execution_count": 5,
      "outputs": [
        {
          "output_type": "execute_result",
          "data": {
            "text/plain": [
              "Other    309\n",
              "Name: CHEST PAIN, dtype: int64"
            ]
          },
          "metadata": {},
          "execution_count": 5
        }
      ]
    },
    {
      "cell_type": "code",
      "source": [
        "# Look at CLASSIFICATION value counts for binning\n",
        "print(lung_cancer_df['CHEST PAIN'].value_counts())"
      ],
      "metadata": {
        "id": "5BkaIPuyPnK_",
        "colab": {
          "base_uri": "https://localhost:8080/"
        },
        "outputId": "2b52173f-68c4-47c4-8d37-75c4221600a6"
      },
      "execution_count": 6,
      "outputs": [
        {
          "output_type": "stream",
          "name": "stdout",
          "text": [
            "Other    309\n",
            "Name: CHEST PAIN, dtype: int64\n"
          ]
        }
      ]
    },
    {
      "cell_type": "code",
      "source": [
        "# Choose a cutoff value and create a list of classifications to be replaced\n",
        "# use the variable name `classifications_to_replace`\n",
        "cutoff = 500\n",
        "classification_counts = lung_cancer_df['SHORTNESS OF BREATH'].value_counts()\n",
        "classifications_to_replace = list(classification_counts[classification_counts < cutoff].index)\n",
        "\n",
        "# Replace in dataframe\n",
        "for cls in classifications_to_replace:\n",
        "    lung_cancer_df['SHORTNESS OF BREATH'] = lung_cancer_df['SHORTNESS OF BREATH'].replace(cls,\"Other\")\n",
        "\n",
        "# Check to make sure binning was successful\n",
        "lung_cancer_df['SHORTNESS OF BREATH'].value_counts()"
      ],
      "metadata": {
        "id": "8M7aJoE4PnVK",
        "colab": {
          "base_uri": "https://localhost:8080/"
        },
        "outputId": "e5d2ba45-8cc2-4a8c-c0d5-64d1043e9d48"
      },
      "execution_count": 7,
      "outputs": [
        {
          "output_type": "execute_result",
          "data": {
            "text/plain": [
              "Other    309\n",
              "Name: SHORTNESS OF BREATH, dtype: int64"
            ]
          },
          "metadata": {},
          "execution_count": 7
        }
      ]
    },
    {
      "cell_type": "code",
      "source": [
        "# Convert categorical data to numeric with `pd.get_dummies`\n",
        "lung_cancer_df = pd.get_dummies(lung_cancer_df)"
      ],
      "metadata": {
        "id": "DwFD--pHPnZ3"
      },
      "execution_count": 8,
      "outputs": []
    },
    {
      "cell_type": "code",
      "source": [
        "# Split our preprocessed data into our features and target arrays\n",
        "X = lung_cancer_df.drop(columns=['CHRONIC DISEASE'])\n",
        "y = lung_cancer_df['CHRONIC DISEASE']\n",
        "\n",
        "# Split the preprocessed data into a training and testing dataset\n",
        "X_train, X_test, y_train, y_test = train_test_split(X, y, random_state=42, stratify=y)"
      ],
      "metadata": {
        "id": "IYOKA2j9PneH"
      },
      "execution_count": 9,
      "outputs": []
    },
    {
      "cell_type": "code",
      "source": [
        "# Create a StandardScaler instances\n",
        "scaler = StandardScaler()\n",
        "\n",
        "# Fit the StandardScaler\n",
        "X_scaler = scaler.fit(X_train)\n",
        "\n",
        "# Scale the data\n",
        "X_train_scaled = X_scaler.transform(X_train)\n",
        "X_test_scaled = X_scaler.transform(X_test)"
      ],
      "metadata": {
        "id": "zxWPpnpuPniV"
      },
      "execution_count": 10,
      "outputs": []
    },
    {
      "cell_type": "code",
      "source": [
        "# Define the model - deep neural net, i.e., the number of input features and hidden nodes for each layer.\n",
        "number_input_features = len(X_train_scaled[0])\n",
        "hidden_nodes_layer1 = 100\n",
        "hidden_nodes_layer2 = 30\n",
        "hidden_nodes_layer3 = 10\n",
        "\n",
        "nn = tf.keras.models.Sequential()\n",
        "\n",
        "# First hidden layer\n",
        "nn.add(tf.keras.layers.Dense(units=hidden_nodes_layer1, input_dim=number_input_features, activation='relu'))\n",
        "\n",
        "# Second hidden layer\n",
        "nn.add(tf.keras.layers.Dense(units=hidden_nodes_layer2, activation='relu'))\n",
        "\n",
        "# Output layer\n",
        "nn.add(tf.keras.layers.Dense(units=1, activation='sigmoid'))\n",
        "\n",
        "# Check the structure of the model\n",
        "nn.summary()"
      ],
      "metadata": {
        "id": "GWNBZe7APnmB",
        "colab": {
          "base_uri": "https://localhost:8080/"
        },
        "outputId": "239372ab-0e9e-4d7e-c3d1-d0b2336f0409"
      },
      "execution_count": 11,
      "outputs": [
        {
          "output_type": "stream",
          "name": "stdout",
          "text": [
            "Model: \"sequential\"\n",
            "_________________________________________________________________\n",
            " Layer (type)                Output Shape              Param #   \n",
            "=================================================================\n",
            " dense (Dense)               (None, 100)               1500      \n",
            "                                                                 \n",
            " dense_1 (Dense)             (None, 30)                3030      \n",
            "                                                                 \n",
            " dense_2 (Dense)             (None, 1)                 31        \n",
            "                                                                 \n",
            "=================================================================\n",
            "Total params: 4,561\n",
            "Trainable params: 4,561\n",
            "Non-trainable params: 0\n",
            "_________________________________________________________________\n"
          ]
        }
      ]
    },
    {
      "cell_type": "code",
      "source": [
        "# Compile the model\n",
        "nn.compile(loss='binary_crossentropy', optimizer='adam', metrics=['accuracy'])"
      ],
      "metadata": {
        "id": "-X4bxkqmPnpu"
      },
      "execution_count": 12,
      "outputs": []
    },
    {
      "cell_type": "code",
      "source": [
        "# Train the model\n",
        "nn.fit(X_train_scaled, y_train, epochs=100, callbacks=[tf.keras.callbacks.ModelCheckpoint(filepath='SurveyLungCancer.h5', verbose=1, save_weights_only=True, save_freq='epoch', period=5)])"
      ],
      "metadata": {
        "id": "xrf8qkSaPntg",
        "colab": {
          "base_uri": "https://localhost:8080/"
        },
        "outputId": "c13080f4-210f-45fc-8a29-1bf4d888863b"
      },
      "execution_count": 13,
      "outputs": [
        {
          "output_type": "stream",
          "name": "stderr",
          "text": [
            "WARNING:tensorflow:`period` argument is deprecated. Please use `save_freq` to specify the frequency in number of batches seen.\n"
          ]
        },
        {
          "output_type": "stream",
          "name": "stdout",
          "text": [
            "Epoch 1/100\n",
            "8/8 [==============================] - 3s 6ms/step - loss: 0.6202 - accuracy: 0.3074\n",
            "Epoch 2/100\n",
            "8/8 [==============================] - 0s 4ms/step - loss: 0.0606 - accuracy: 0.4805\n",
            "Epoch 3/100\n",
            "8/8 [==============================] - 0s 6ms/step - loss: -0.4016 - accuracy: 0.4935\n",
            "Epoch 4/100\n",
            "8/8 [==============================] - 0s 5ms/step - loss: -0.8387 - accuracy: 0.4935\n",
            "Epoch 5/100\n",
            "1/8 [==>...........................] - ETA: 0s - loss: -1.0017 - accuracy: 0.5312\n",
            "Epoch 5: saving model to SurveyLungCancer.h5\n",
            "8/8 [==============================] - 0s 14ms/step - loss: -1.2743 - accuracy: 0.4935\n",
            "Epoch 6/100\n",
            "8/8 [==============================] - 0s 6ms/step - loss: -1.7402 - accuracy: 0.4935\n",
            "Epoch 7/100\n",
            "8/8 [==============================] - 0s 4ms/step - loss: -2.2656 - accuracy: 0.4935\n",
            "Epoch 8/100\n",
            "8/8 [==============================] - 0s 3ms/step - loss: -2.8867 - accuracy: 0.4935\n",
            "Epoch 9/100\n",
            "8/8 [==============================] - 0s 6ms/step - loss: -3.5888 - accuracy: 0.4935\n",
            "Epoch 10/100\n",
            "1/8 [==>...........................] - ETA: 0s - loss: -3.7356 - accuracy: 0.5000\n",
            "Epoch 10: saving model to SurveyLungCancer.h5\n",
            "8/8 [==============================] - 0s 10ms/step - loss: -4.4524 - accuracy: 0.4935\n",
            "Epoch 11/100\n",
            "8/8 [==============================] - 0s 6ms/step - loss: -5.4771 - accuracy: 0.4935\n",
            "Epoch 12/100\n",
            "8/8 [==============================] - 0s 4ms/step - loss: -6.7298 - accuracy: 0.4935\n",
            "Epoch 13/100\n",
            "8/8 [==============================] - 0s 4ms/step - loss: -8.1942 - accuracy: 0.4935\n",
            "Epoch 14/100\n",
            "8/8 [==============================] - 0s 5ms/step - loss: -9.9553 - accuracy: 0.4935\n",
            "Epoch 15/100\n",
            "1/8 [==>...........................] - ETA: 0s - loss: -8.5694 - accuracy: 0.5625\n",
            "Epoch 15: saving model to SurveyLungCancer.h5\n",
            "8/8 [==============================] - 0s 7ms/step - loss: -12.1076 - accuracy: 0.4935\n",
            "Epoch 16/100\n",
            "8/8 [==============================] - 0s 4ms/step - loss: -14.5564 - accuracy: 0.4935\n",
            "Epoch 17/100\n",
            "8/8 [==============================] - 0s 7ms/step - loss: -17.4631 - accuracy: 0.4935\n",
            "Epoch 18/100\n",
            "8/8 [==============================] - 0s 6ms/step - loss: -20.8593 - accuracy: 0.4935\n",
            "Epoch 19/100\n",
            "8/8 [==============================] - 0s 4ms/step - loss: -24.5929 - accuracy: 0.4935\n",
            "Epoch 20/100\n",
            "1/8 [==>...........................] - ETA: 0s - loss: -28.0748 - accuracy: 0.5000\n",
            "Epoch 20: saving model to SurveyLungCancer.h5\n",
            "8/8 [==============================] - 0s 6ms/step - loss: -29.0983 - accuracy: 0.4935\n",
            "Epoch 21/100\n",
            "8/8 [==============================] - 0s 4ms/step - loss: -34.0705 - accuracy: 0.4935\n",
            "Epoch 22/100\n",
            "8/8 [==============================] - 0s 9ms/step - loss: -39.8149 - accuracy: 0.4935\n",
            "Epoch 23/100\n",
            "8/8 [==============================] - 0s 4ms/step - loss: -45.9201 - accuracy: 0.4935\n",
            "Epoch 24/100\n",
            "8/8 [==============================] - 0s 4ms/step - loss: -53.2038 - accuracy: 0.4935\n",
            "Epoch 25/100\n",
            "1/8 [==>...........................] - ETA: 0s - loss: -55.0540 - accuracy: 0.5000\n",
            "Epoch 25: saving model to SurveyLungCancer.h5\n",
            "8/8 [==============================] - 0s 5ms/step - loss: -60.7179 - accuracy: 0.4935\n",
            "Epoch 26/100\n",
            "8/8 [==============================] - 0s 6ms/step - loss: -69.5051 - accuracy: 0.4935\n",
            "Epoch 27/100\n",
            "8/8 [==============================] - 0s 8ms/step - loss: -78.6596 - accuracy: 0.4935\n",
            "Epoch 28/100\n",
            "8/8 [==============================] - 0s 5ms/step - loss: -88.9142 - accuracy: 0.4935\n",
            "Epoch 29/100\n",
            "8/8 [==============================] - 0s 6ms/step - loss: -100.1248 - accuracy: 0.4935\n",
            "Epoch 30/100\n",
            "1/8 [==>...........................] - ETA: 0s - loss: -96.2167 - accuracy: 0.5312\n",
            "Epoch 30: saving model to SurveyLungCancer.h5\n",
            "8/8 [==============================] - 0s 7ms/step - loss: -112.7775 - accuracy: 0.4935\n",
            "Epoch 31/100\n",
            "8/8 [==============================] - 0s 7ms/step - loss: -126.1478 - accuracy: 0.4935\n",
            "Epoch 32/100\n",
            "8/8 [==============================] - 0s 6ms/step - loss: -140.5269 - accuracy: 0.4935\n",
            "Epoch 33/100\n",
            "8/8 [==============================] - 0s 6ms/step - loss: -156.9940 - accuracy: 0.4935\n",
            "Epoch 34/100\n",
            "8/8 [==============================] - 0s 13ms/step - loss: -173.5318 - accuracy: 0.4935\n",
            "Epoch 35/100\n",
            "8/8 [==============================] - ETA: 0s - loss: -191.2907 - accuracy: 0.4935\n",
            "Epoch 35: saving model to SurveyLungCancer.h5\n",
            "8/8 [==============================] - 0s 10ms/step - loss: -191.2907 - accuracy: 0.4935\n",
            "Epoch 36/100\n",
            "8/8 [==============================] - 0s 7ms/step - loss: -210.9908 - accuracy: 0.4935\n",
            "Epoch 37/100\n",
            "8/8 [==============================] - 0s 6ms/step - loss: -231.0698 - accuracy: 0.4935\n",
            "Epoch 38/100\n",
            "8/8 [==============================] - 0s 25ms/step - loss: -252.7740 - accuracy: 0.4935\n",
            "Epoch 39/100\n",
            "8/8 [==============================] - 0s 18ms/step - loss: -275.7921 - accuracy: 0.4935\n",
            "Epoch 40/100\n",
            "6/8 [=====================>........] - ETA: 0s - loss: -296.1651 - accuracy: 0.5104\n",
            "Epoch 40: saving model to SurveyLungCancer.h5\n",
            "8/8 [==============================] - 0s 34ms/step - loss: -299.9288 - accuracy: 0.4935\n",
            "Epoch 41/100\n",
            "8/8 [==============================] - 0s 22ms/step - loss: -326.1234 - accuracy: 0.4935\n",
            "Epoch 42/100\n",
            "8/8 [==============================] - 0s 22ms/step - loss: -354.1450 - accuracy: 0.4935\n",
            "Epoch 43/100\n",
            "8/8 [==============================] - 0s 12ms/step - loss: -382.4624 - accuracy: 0.4935\n",
            "Epoch 44/100\n",
            "8/8 [==============================] - 0s 6ms/step - loss: -412.0543 - accuracy: 0.4935\n",
            "Epoch 45/100\n",
            "8/8 [==============================] - ETA: 0s - loss: -445.3307 - accuracy: 0.4935\n",
            "Epoch 45: saving model to SurveyLungCancer.h5\n",
            "8/8 [==============================] - 0s 13ms/step - loss: -445.3307 - accuracy: 0.4935\n",
            "Epoch 46/100\n",
            "8/8 [==============================] - 0s 5ms/step - loss: -477.0150 - accuracy: 0.4935\n",
            "Epoch 47/100\n",
            "8/8 [==============================] - 0s 16ms/step - loss: -510.4955 - accuracy: 0.4935\n",
            "Epoch 48/100\n",
            "8/8 [==============================] - 0s 9ms/step - loss: -547.4601 - accuracy: 0.4935\n",
            "Epoch 49/100\n",
            "8/8 [==============================] - 0s 7ms/step - loss: -586.4740 - accuracy: 0.4935\n",
            "Epoch 50/100\n",
            "1/8 [==>...........................] - ETA: 0s - loss: -551.2720 - accuracy: 0.5312\n",
            "Epoch 50: saving model to SurveyLungCancer.h5\n",
            "8/8 [==============================] - 0s 16ms/step - loss: -627.5361 - accuracy: 0.4935\n",
            "Epoch 51/100\n",
            "8/8 [==============================] - 0s 6ms/step - loss: -671.4390 - accuracy: 0.4935\n",
            "Epoch 52/100\n",
            "8/8 [==============================] - 0s 11ms/step - loss: -713.6405 - accuracy: 0.4935\n",
            "Epoch 53/100\n",
            "8/8 [==============================] - 0s 7ms/step - loss: -758.8327 - accuracy: 0.4935\n",
            "Epoch 54/100\n",
            "8/8 [==============================] - 0s 6ms/step - loss: -805.4277 - accuracy: 0.4935\n",
            "Epoch 55/100\n",
            "1/8 [==>...........................] - ETA: 0s - loss: -767.4158 - accuracy: 0.5000\n",
            "Epoch 55: saving model to SurveyLungCancer.h5\n",
            "8/8 [==============================] - 0s 11ms/step - loss: -852.8074 - accuracy: 0.4935\n",
            "Epoch 56/100\n",
            "8/8 [==============================] - 0s 6ms/step - loss: -904.0543 - accuracy: 0.4935\n",
            "Epoch 57/100\n",
            "8/8 [==============================] - 0s 7ms/step - loss: -956.7669 - accuracy: 0.4935\n",
            "Epoch 58/100\n",
            "8/8 [==============================] - 0s 6ms/step - loss: -1012.1265 - accuracy: 0.4935\n",
            "Epoch 59/100\n",
            "8/8 [==============================] - 0s 7ms/step - loss: -1067.2443 - accuracy: 0.4935\n",
            "Epoch 60/100\n",
            "1/8 [==>...........................] - ETA: 0s - loss: -1346.8403 - accuracy: 0.4688\n",
            "Epoch 60: saving model to SurveyLungCancer.h5\n",
            "8/8 [==============================] - 0s 11ms/step - loss: -1126.4558 - accuracy: 0.4935\n",
            "Epoch 61/100\n",
            "8/8 [==============================] - 0s 6ms/step - loss: -1187.4984 - accuracy: 0.4935\n",
            "Epoch 62/100\n",
            "8/8 [==============================] - 0s 4ms/step - loss: -1248.4642 - accuracy: 0.4935\n",
            "Epoch 63/100\n",
            "8/8 [==============================] - 0s 6ms/step - loss: -1309.8274 - accuracy: 0.4935\n",
            "Epoch 64/100\n",
            "8/8 [==============================] - 0s 6ms/step - loss: -1377.1135 - accuracy: 0.4935\n",
            "Epoch 65/100\n",
            "5/8 [=================>............] - ETA: 0s - loss: -1568.3435 - accuracy: 0.4563\n",
            "Epoch 65: saving model to SurveyLungCancer.h5\n",
            "8/8 [==============================] - 0s 18ms/step - loss: -1441.8900 - accuracy: 0.4935\n",
            "Epoch 66/100\n",
            "8/8 [==============================] - 0s 11ms/step - loss: -1514.1321 - accuracy: 0.4935\n",
            "Epoch 67/100\n",
            "8/8 [==============================] - 0s 8ms/step - loss: -1581.1433 - accuracy: 0.4935\n",
            "Epoch 68/100\n",
            "8/8 [==============================] - 0s 7ms/step - loss: -1655.5608 - accuracy: 0.4935\n",
            "Epoch 69/100\n",
            "8/8 [==============================] - 0s 4ms/step - loss: -1731.3684 - accuracy: 0.4935\n",
            "Epoch 70/100\n",
            "1/8 [==>...........................] - ETA: 0s - loss: -1433.0760 - accuracy: 0.5312\n",
            "Epoch 70: saving model to SurveyLungCancer.h5\n",
            "8/8 [==============================] - 0s 7ms/step - loss: -1809.2737 - accuracy: 0.4935\n",
            "Epoch 71/100\n",
            "8/8 [==============================] - 0s 10ms/step - loss: -1892.0570 - accuracy: 0.4935\n",
            "Epoch 72/100\n",
            "8/8 [==============================] - 0s 4ms/step - loss: -1972.8958 - accuracy: 0.4935\n",
            "Epoch 73/100\n",
            "8/8 [==============================] - 0s 4ms/step - loss: -2061.3315 - accuracy: 0.4935\n",
            "Epoch 74/100\n",
            "8/8 [==============================] - 0s 7ms/step - loss: -2151.0029 - accuracy: 0.4935\n",
            "Epoch 75/100\n",
            "1/8 [==>...........................] - ETA: 0s - loss: -2021.7614 - accuracy: 0.5000\n",
            "Epoch 75: saving model to SurveyLungCancer.h5\n",
            "8/8 [==============================] - 0s 6ms/step - loss: -2239.3843 - accuracy: 0.4935\n",
            "Epoch 76/100\n",
            "8/8 [==============================] - 0s 4ms/step - loss: -2333.8735 - accuracy: 0.4935\n",
            "Epoch 77/100\n",
            "8/8 [==============================] - 0s 7ms/step - loss: -2429.9968 - accuracy: 0.4935\n",
            "Epoch 78/100\n",
            "8/8 [==============================] - 0s 4ms/step - loss: -2530.4707 - accuracy: 0.4935\n",
            "Epoch 79/100\n",
            "8/8 [==============================] - 0s 4ms/step - loss: -2635.8416 - accuracy: 0.4935\n",
            "Epoch 80/100\n",
            "1/8 [==>...........................] - ETA: 0s - loss: -2545.6833 - accuracy: 0.5312\n",
            "Epoch 80: saving model to SurveyLungCancer.h5\n",
            "8/8 [==============================] - 0s 7ms/step - loss: -2734.9021 - accuracy: 0.4935\n",
            "Epoch 81/100\n",
            "8/8 [==============================] - 0s 6ms/step - loss: -2845.3884 - accuracy: 0.4935\n",
            "Epoch 82/100\n",
            "8/8 [==============================] - 0s 4ms/step - loss: -2957.0752 - accuracy: 0.4935\n",
            "Epoch 83/100\n",
            "8/8 [==============================] - 0s 4ms/step - loss: -3073.5601 - accuracy: 0.4935\n",
            "Epoch 84/100\n",
            "8/8 [==============================] - 0s 4ms/step - loss: -3186.3596 - accuracy: 0.4935\n",
            "Epoch 85/100\n",
            "1/8 [==>...........................] - ETA: 0s - loss: -3343.5615 - accuracy: 0.4062\n",
            "Epoch 85: saving model to SurveyLungCancer.h5\n",
            "8/8 [==============================] - 0s 6ms/step - loss: -3307.8149 - accuracy: 0.4935\n",
            "Epoch 86/100\n",
            "8/8 [==============================] - 0s 7ms/step - loss: -3438.2122 - accuracy: 0.4935\n",
            "Epoch 87/100\n",
            "8/8 [==============================] - 0s 5ms/step - loss: -3562.0532 - accuracy: 0.4935\n",
            "Epoch 88/100\n",
            "8/8 [==============================] - 0s 7ms/step - loss: -3691.7859 - accuracy: 0.4935\n",
            "Epoch 89/100\n",
            "8/8 [==============================] - 0s 5ms/step - loss: -3822.3081 - accuracy: 0.4935\n",
            "Epoch 90/100\n",
            "1/8 [==>...........................] - ETA: 0s - loss: -2847.1594 - accuracy: 0.6250\n",
            "Epoch 90: saving model to SurveyLungCancer.h5\n",
            "8/8 [==============================] - 0s 10ms/step - loss: -3957.3750 - accuracy: 0.4935\n",
            "Epoch 91/100\n",
            "8/8 [==============================] - 0s 7ms/step - loss: -4090.4077 - accuracy: 0.4935\n",
            "Epoch 92/100\n",
            "8/8 [==============================] - 0s 7ms/step - loss: -4231.1763 - accuracy: 0.4935\n",
            "Epoch 93/100\n",
            "8/8 [==============================] - 0s 13ms/step - loss: -4372.4585 - accuracy: 0.4935\n",
            "Epoch 94/100\n",
            "8/8 [==============================] - 0s 4ms/step - loss: -4512.4854 - accuracy: 0.4935\n",
            "Epoch 95/100\n",
            "1/8 [==>...........................] - ETA: 0s - loss: -5941.7349 - accuracy: 0.3125\n",
            "Epoch 95: saving model to SurveyLungCancer.h5\n",
            "8/8 [==============================] - 0s 6ms/step - loss: -4662.8530 - accuracy: 0.4935\n",
            "Epoch 96/100\n",
            "8/8 [==============================] - 0s 4ms/step - loss: -4810.8345 - accuracy: 0.4935\n",
            "Epoch 97/100\n",
            "8/8 [==============================] - 0s 5ms/step - loss: -4956.2271 - accuracy: 0.4935\n",
            "Epoch 98/100\n",
            "8/8 [==============================] - 0s 5ms/step - loss: -5112.5239 - accuracy: 0.4935\n",
            "Epoch 99/100\n",
            "8/8 [==============================] - 0s 5ms/step - loss: -5269.4634 - accuracy: 0.4935\n",
            "Epoch 100/100\n",
            "1/8 [==>...........................] - ETA: 0s - loss: -6741.0088 - accuracy: 0.4375\n",
            "Epoch 100: saving model to SurveyLungCancer.h5\n",
            "8/8 [==============================] - 0s 9ms/step - loss: -5427.2197 - accuracy: 0.4935\n"
          ]
        },
        {
          "output_type": "execute_result",
          "data": {
            "text/plain": [
              "<keras.callbacks.History at 0x7f47fb1b7550>"
            ]
          },
          "metadata": {},
          "execution_count": 13
        }
      ]
    },
    {
      "cell_type": "code",
      "source": [
        "# Evaluate the model using the test data\n",
        "model_loss, model_accuracy = nn.evaluate(X_test_scaled,y_test,verbose=2)\n",
        "print(f\"Loss: {model_loss}, Accuracy: {model_accuracy}\")"
      ],
      "metadata": {
        "id": "WyubhOTBPnxc",
        "colab": {
          "base_uri": "https://localhost:8080/"
        },
        "outputId": "4e6c9df9-6cd2-4c11-fe75-16ca132575f3"
      },
      "execution_count": 14,
      "outputs": [
        {
          "output_type": "stream",
          "name": "stdout",
          "text": [
            "3/3 - 1s - loss: -4.9168e+03 - accuracy: 0.5000 - 518ms/epoch - 173ms/step\n",
            "Loss: -4916.77001953125, Accuracy: 0.5\n"
          ]
        }
      ]
    },
    {
      "cell_type": "code",
      "source": [
        "# Export our model to HDF5 file\n",
        "nn.save('SurveyLungCancer.h5')"
      ],
      "metadata": {
        "id": "zPCuOwORewwT"
      },
      "execution_count": 15,
      "outputs": []
    },
    {
      "cell_type": "code",
      "source": [],
      "metadata": {
        "id": "sWfwMzspew-D"
      },
      "execution_count": 15,
      "outputs": []
    }
  ]
}